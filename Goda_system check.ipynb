{
 "cells": [
  {
   "cell_type": "markdown",
   "id": "d8e7bf88",
   "metadata": {},
   "source": [
    "## What I Hope to Get Out of This Class\n",
    "\n",
    "1. Understanding Python syntax\n",
    "2. Mastering programming concepts\n",
    "3. Gaining practical coding skills\n",
    "\n",
    "I hope to **learn** the fundamentals of Python, including its syntax and basic concepts, and **apply** this knowledge to solve real-world problems. Additionally, I aim to *develop* a strong foundation in programming and enhance my problem-solving abilities.\n",
    "\n",
    "![Class Image](image.jpg)"
   ]
  },
  {
   "cell_type": "code",
   "execution_count": 1,
   "id": "68d6b40e",
   "metadata": {},
   "outputs": [
    {
     "name": "stdout",
     "output_type": "stream",
     "text": [
      "0\n",
      "1\n",
      "2\n",
      "3\n",
      "4\n"
     ]
    }
   ],
   "source": [
    "# Variable assignment\n",
    "x = 5\n",
    "y = \"Hello, World!\"\n",
    "\n",
    "# For loop\n",
    "for i in range(5):\n",
    "    print(i)\n",
    "\n",
    "# Function with a print statement and a return statement\n",
    "def greet(name):\n",
    "    print(\"Hello, \" + name)\n",
    "    return \"Greeting sent to \" + name"
   ]
  },
  {
   "cell_type": "code",
   "execution_count": null,
   "id": "4acefd81",
   "metadata": {},
   "outputs": [],
   "source": []
  }
 ],
 "metadata": {
  "kernelspec": {
   "display_name": "Python 3 (ipykernel)",
   "language": "python",
   "name": "python3"
  },
  "language_info": {
   "codemirror_mode": {
    "name": "ipython",
    "version": 3
   },
   "file_extension": ".py",
   "mimetype": "text/x-python",
   "name": "python",
   "nbconvert_exporter": "python",
   "pygments_lexer": "ipython3",
   "version": "3.11.5"
  }
 },
 "nbformat": 4,
 "nbformat_minor": 5
}
